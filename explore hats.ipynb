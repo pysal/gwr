{
 "cells": [
  {
   "cell_type": "code",
   "execution_count": 1,
   "metadata": {},
   "outputs": [
    {
     "name": "stderr",
     "output_type": "stream",
     "text": [
      "/home/lw17329/anaconda/envs/ana/lib/python3.5/site-packages/seaborn/apionly.py:6: UserWarning: As seaborn no longer sets a default style on import, the seaborn.apionly module is deprecated. It will be removed in a future version.\n",
      "  warnings.warn(msg, UserWarning)\n"
     ]
    }
   ],
   "source": [
    "import pysal as ps\n",
    "import geopandas as gpd\n",
    "import pandas as pd\n",
    "import matplotlib.pyplot as plt\n",
    "import shapely.geometry as geom\n",
    "import seaborn.apionly as sns\n",
    "import numpy as np\n",
    "%matplotlib inline"
   ]
  },
  {
   "cell_type": "code",
   "execution_count": 2,
   "metadata": {
    "collapsed": true
   },
   "outputs": [],
   "source": [
    "data = pd.read_csv(ps.examples.get_path('GData_utm.csv'))\n",
    "data['geometry'] = [geom.Point(x,y) for x,y in data[['X','Y']].values]\n",
    "data = gpd.GeoDataFrame(data)"
   ]
  },
  {
   "cell_type": "code",
   "execution_count": 3,
   "metadata": {},
   "outputs": [
    {
     "data": {
      "text/plain": [
       "<matplotlib.axes._subplots.AxesSubplot at 0x7f6139ebb358>"
      ]
     },
     "execution_count": 3,
     "metadata": {},
     "output_type": "execute_result"
    },
    {
     "data": {
      "image/png": "[encoded data removed]",
      "text/plain": [
       "<matplotlib.figure.Figure at 0x7f618484d8d0>"
      ]
     },
     "metadata": {},
     "output_type": "display_data"
    }
   ],
   "source": [
    "data.plot()"
   ]
  },
  {
   "cell_type": "code",
   "execution_count": 4,
   "metadata": {},
   "outputs": [
    {
     "data": {
      "text/html": [
       "<div>\n",
       "<style scoped>\n",
       "    .dataframe tbody tr th:only-of-type {\n",
       "        vertical-align: middle;\n",
       "    }\n",
       "\n",
       "    .dataframe tbody tr th {\n",
       "        vertical-align: top;\n",
       "    }\n",
       "\n",
       "    .dataframe thead th {\n",
       "        text-align: right;\n",
       "    }\n",
       "</style>\n",
       "<table border=\"1\" class=\"dataframe\">\n",
       "  <thead>\n",
       "    <tr style=\"text-align: right;\">\n",
       "      <th></th>\n",
       "      <th>AreaKey</th>\n",
       "      <th>Latitude</th>\n",
       "      <th>Longitud</th>\n",
       "      <th>TotPop90</th>\n",
       "      <th>PctRural</th>\n",
       "      <th>PctBach</th>\n",
       "      <th>PctEld</th>\n",
       "      <th>PctFB</th>\n",
       "      <th>PctPov</th>\n",
       "      <th>PctBlack</th>\n",
       "      <th>ID</th>\n",
       "      <th>X</th>\n",
       "      <th>Y</th>\n",
       "      <th>geometry</th>\n",
       "    </tr>\n",
       "  </thead>\n",
       "  <tbody>\n",
       "    <tr>\n",
       "      <th>0</th>\n",
       "      <td>13001</td>\n",
       "      <td>31.75339</td>\n",
       "      <td>-82.28558</td>\n",
       "      <td>15744</td>\n",
       "      <td>75.6</td>\n",
       "      <td>8.2</td>\n",
       "      <td>11.43</td>\n",
       "      <td>0.64</td>\n",
       "      <td>19.9</td>\n",
       "      <td>20.76</td>\n",
       "      <td>133</td>\n",
       "      <td>941396.6</td>\n",
       "      <td>3521764.0</td>\n",
       "      <td>POINT (941396.6 3521764)</td>\n",
       "    </tr>\n",
       "    <tr>\n",
       "      <th>1</th>\n",
       "      <td>13003</td>\n",
       "      <td>31.29486</td>\n",
       "      <td>-82.87474</td>\n",
       "      <td>6213</td>\n",
       "      <td>100.0</td>\n",
       "      <td>6.4</td>\n",
       "      <td>11.77</td>\n",
       "      <td>1.58</td>\n",
       "      <td>26.0</td>\n",
       "      <td>26.86</td>\n",
       "      <td>158</td>\n",
       "      <td>895553.0</td>\n",
       "      <td>3471916.0</td>\n",
       "      <td>POINT (895553 3471916)</td>\n",
       "    </tr>\n",
       "    <tr>\n",
       "      <th>2</th>\n",
       "      <td>13005</td>\n",
       "      <td>31.55678</td>\n",
       "      <td>-82.45115</td>\n",
       "      <td>9566</td>\n",
       "      <td>61.7</td>\n",
       "      <td>6.6</td>\n",
       "      <td>11.11</td>\n",
       "      <td>0.27</td>\n",
       "      <td>24.1</td>\n",
       "      <td>15.42</td>\n",
       "      <td>146</td>\n",
       "      <td>930946.4</td>\n",
       "      <td>3502787.0</td>\n",
       "      <td>POINT (930946.4 3502787)</td>\n",
       "    </tr>\n",
       "    <tr>\n",
       "      <th>3</th>\n",
       "      <td>13007</td>\n",
       "      <td>31.33084</td>\n",
       "      <td>-84.45401</td>\n",
       "      <td>3615</td>\n",
       "      <td>100.0</td>\n",
       "      <td>9.4</td>\n",
       "      <td>13.17</td>\n",
       "      <td>0.11</td>\n",
       "      <td>24.8</td>\n",
       "      <td>51.67</td>\n",
       "      <td>155</td>\n",
       "      <td>745398.6</td>\n",
       "      <td>3474765.0</td>\n",
       "      <td>POINT (745398.6 3474765)</td>\n",
       "    </tr>\n",
       "    <tr>\n",
       "      <th>4</th>\n",
       "      <td>13009</td>\n",
       "      <td>33.07193</td>\n",
       "      <td>-83.25085</td>\n",
       "      <td>39530</td>\n",
       "      <td>42.7</td>\n",
       "      <td>13.3</td>\n",
       "      <td>8.64</td>\n",
       "      <td>1.43</td>\n",
       "      <td>17.5</td>\n",
       "      <td>42.39</td>\n",
       "      <td>79</td>\n",
       "      <td>849431.3</td>\n",
       "      <td>3665553.0</td>\n",
       "      <td>POINT (849431.3 3665553)</td>\n",
       "    </tr>\n",
       "  </tbody>\n",
       "</table>\n",
       "</div>"
      ],
      "text/plain": [
       "   AreaKey  Latitude  Longitud  TotPop90  PctRural  PctBach  PctEld  PctFB  \\\n",
       "0    13001  31.75339 -82.28558     15744      75.6      8.2   11.43   0.64   \n",
       "1    13003  31.29486 -82.87474      6213     100.0      6.4   11.77   1.58   \n",
       "2    13005  31.55678 -82.45115      9566      61.7      6.6   11.11   0.27   \n",
       "3    13007  31.33084 -84.45401      3615     100.0      9.4   13.17   0.11   \n",
       "4    13009  33.07193 -83.25085     39530      42.7     13.3    8.64   1.43   \n",
       "\n",
       "   PctPov  PctBlack   ID         X          Y                  geometry  \n",
       "0    19.9     20.76  133  941396.6  3521764.0  POINT (941396.6 3521764)  \n",
       "1    26.0     26.86  158  895553.0  3471916.0    POINT (895553 3471916)  \n",
       "2    24.1     15.42  146  930946.4  3502787.0  POINT (930946.4 3502787)  \n",
       "3    24.8     51.67  155  745398.6  3474765.0  POINT (745398.6 3474765)  \n",
       "4    17.5     42.39   79  849431.3  3665553.0  POINT (849431.3 3665553)  "
      ]
     },
     "execution_count": 4,
     "metadata": {},
     "output_type": "execute_result"
    }
   ],
   "source": [
    "data.head()"
   ]
  },
  {
   "cell_type": "code",
   "execution_count": 5,
   "metadata": {
    "collapsed": true
   },
   "outputs": [],
   "source": [
    "X = data[['PctFB', 'PctPov', 'PctBlack']].values\n",
    "Y = data[['PctBach']].values\n",
    "coords = data[['X','Y']].values"
   ]
  },
  {
   "cell_type": "code",
   "execution_count": 6,
   "metadata": {
    "collapsed": true
   },
   "outputs": [],
   "source": [
    "N = Y.shape[0]"
   ]
  },
  {
   "cell_type": "code",
   "execution_count": 7,
   "metadata": {},
   "outputs": [
    {
     "data": {
      "text/plain": [
       "<module 'mgwr' from '/home/lw17329/Dropbox/dev/gwr/mgwr/__init__.py'>"
      ]
     },
     "execution_count": 7,
     "metadata": {},
     "output_type": "execute_result"
    }
   ],
   "source": [
    "import imp\n",
    "import mgwr\n",
    "imp.reload(mgwr)"
   ]
  },
  {
   "cell_type": "code",
   "execution_count": 8,
   "metadata": {},
   "outputs": [
    {
     "name": "stderr",
     "output_type": "stream",
     "text": [
      " 48%|████▊     | 97/200 [05:10<05:29,  3.20s/it]"
     ]
    }
   ],
   "source": [
    "sb = mgwr.sel_bw.Sel_BW(coords, Y, X, multi=True, fixed=True)\n",
    "out = sb.search(search='scipy', tol=1e-2)"
   ]
  },
  {
   "cell_type": "code",
   "execution_count": 9,
   "metadata": {},
   "outputs": [
    {
     "data": {
      "text/plain": [
       "'scipy'"
      ]
     },
     "execution_count": 9,
     "metadata": {},
     "output_type": "execute_result"
    }
   ],
   "source": [
    "sb.search"
   ]
  },
  {
   "cell_type": "code",
   "execution_count": 10,
   "metadata": {
    "collapsed": true
   },
   "outputs": [],
   "source": [
    "from collections import namedtuple"
   ]
  },
  {
   "cell_type": "code",
   "execution_count": 11,
   "metadata": {
    "collapsed": true
   },
   "outputs": [],
   "source": [
    "partials = sb.bw.partial_models_"
   ]
  },
  {
   "cell_type": "code",
   "execution_count": 12,
   "metadata": {
    "collapsed": true
   },
   "outputs": [],
   "source": [
    "test = partials[0]"
   ]
  },
  {
   "cell_type": "code",
   "execution_count": 13,
   "metadata": {
    "collapsed": true
   },
   "outputs": [],
   "source": [
    "hats = [m.S for m in partials]"
   ]
  },
  {
   "cell_type": "code",
   "execution_count": 14,
   "metadata": {},
   "outputs": [
    {
     "data": {
      "text/plain": [
       "(159, 4)"
      ]
     },
     "execution_count": 14,
     "metadata": {},
     "output_type": "execute_result"
    }
   ],
   "source": [
    "sb.bw.partial_predictions.shape"
   ]
  },
  {
   "cell_type": "code",
   "execution_count": 15,
   "metadata": {
    "collapsed": true
   },
   "outputs": [],
   "source": [
    "fullmod = mgwr.gwr.MGWR(coords, Y, X, out, sb.bw.partial_predictions, sb.bw.model_residuals_).fit()"
   ]
  },
  {
   "cell_type": "code",
   "execution_count": 16,
   "metadata": {},
   "outputs": [
    {
     "data": {
      "text/plain": [
       "<matplotlib.collections.PathCollection at 0x7f6135cf1e80>"
      ]
     },
     "execution_count": 16,
     "metadata": {},
     "output_type": "execute_result"
    },
    {
     "data": {
      "image/png": "[encoded data removed]",
      "text/plain": [
       "<matplotlib.figure.Figure at 0x7f613658f6d8>"
      ]
     },
     "metadata": {},
     "output_type": "display_data"
    }
   ],
   "source": [
    "plt.scatter(fullmod.predy.sum(axis=1), Y)"
   ]
  },
  {
   "cell_type": "code",
   "execution_count": 17,
   "metadata": {},
   "outputs": [
    {
     "data": {
      "text/plain": [
       "<matplotlib.collections.PathCollection at 0x7f6135cb13c8>"
      ]
     },
     "execution_count": 17,
     "metadata": {},
     "output_type": "execute_result"
    },
    {
     "data": {
      "image/png": "[encoded data removed]",
      "text/plain": [
       "<matplotlib.figure.Figure at 0x7f613658f8d0>"
      ]
     },
     "metadata": {},
     "output_type": "display_data"
    }
   ],
   "source": [
    "plt.scatter(fullmod.predy.flatten(), fullmod.model.XB.sum(axis=1))"
   ]
  },
  {
   "cell_type": "code",
   "execution_count": 18,
   "metadata": {},
   "outputs": [
    {
     "data": {
      "text/plain": [
       "<matplotlib.collections.PathCollection at 0x7f6135ceafd0>"
      ]
     },
     "execution_count": 18,
     "metadata": {},
     "output_type": "execute_result"
    },
    {
     "data": {
      "image/png": "[encoded data removed]",
      "text/plain": [
       "<matplotlib.figure.Figure at 0x7f613658f940>"
      ]
     },
     "metadata": {},
     "output_type": "display_data"
    }
   ],
   "source": [
    "plt.scatter(Y, fullmod.predy.flatten())"
   ]
  },
  {
   "cell_type": "code",
   "execution_count": 19,
   "metadata": {},
   "outputs": [
    {
     "data": {
      "text/plain": [
       "<matplotlib.collections.PathCollection at 0x7f6135ca1780>"
      ]
     },
     "execution_count": 19,
     "metadata": {},
     "output_type": "execute_result"
    },
    {
     "data": {
      "image/png": "[encoded data removed]",
      "text/plain": [
       "<matplotlib.figure.Figure at 0x7f6135ce2160>"
      ]
     },
     "metadata": {},
     "output_type": "display_data"
    }
   ],
   "source": [
    "plt.scatter(Y, fullmod.model.XB.sum(axis=1))"
   ]
  },
  {
   "cell_type": "code",
   "execution_count": 20,
   "metadata": {},
   "outputs": [
    {
     "data": {
      "text/plain": [
       "(array([  1.,   0.,   0.,   1.,   3.,   8.,  22., 111.,   8.,   5.]),\n",
       " array([-5.91453093, -5.09364162, -4.27275231, -3.451863  , -2.63097369,\n",
       "        -1.81008438, -0.98919507, -0.16830576,  0.65258355,  1.47347286,\n",
       "         2.29436217]),\n",
       " <a list of 10 Patch objects>)"
      ]
     },
     "execution_count": 20,
     "metadata": {},
     "output_type": "execute_result"
    },
    {
     "data": {
      "image/png": "[encoded data removed]",
      "text/plain": [
       "<matplotlib.figure.Figure at 0x7f6135c8b1d0>"
      ]
     },
     "metadata": {},
     "output_type": "display_data"
    }
   ],
   "source": [
    "plt.hist(fullmod.model.XB.sum(axis=1) - fullmod.predy.flatten())"
   ]
  },
  {
   "cell_type": "code",
   "execution_count": 21,
   "metadata": {
    "collapsed": true
   },
   "outputs": [],
   "source": [
    "import scipy.linalg as scla"
   ]
  },
  {
   "cell_type": "code",
   "execution_count": 93,
   "metadata": {
    "collapsed": true
   },
   "outputs": [],
   "source": [
    "hats = [m.S for m in fullmod.model.models]\n",
    "resids = np.vstack([m.resid_response for m in fullmod.model.models]).T"
   ]
  },
  {
   "cell_type": "code",
   "execution_count": 100,
   "metadata": {
    "collapsed": true
   },
   "outputs": [],
   "source": [
    "partial_sums = np.vstack([np.delete(resids, i, axis=1).sum(axis=1) for i in range(resids.shape[1])]).T"
   ]
  },
  {
   "cell_type": "code",
   "execution_count": 84,
   "metadata": {
    "collapsed": true
   },
   "outputs": [],
   "source": [
    "test = fullmod.model.models[0]"
   ]
  },
  {
   "cell_type": "code",
   "execution_count": 112,
   "metadata": {
    "collapsed": true
   },
   "outputs": [],
   "source": [
    "full_S = np.zeros((N,N))\n",
    "In = np.eye(N)\n",
    "Xc = np.hstack((np.ones_like(Y), X))\n",
    "XBfinal = Xc * fullmod.params\n",
    "outs = []\n",
    "for i,S in enumerate(hats):\n",
    "    outs.append(S.dot(Y - partial_sums[:,i].reshape(-1,1)))"
   ]
  },
  {
   "cell_type": "code",
   "execution_count": null,
   "metadata": {
    "collapsed": true
   },
   "outputs": [],
   "source": []
  },
  {
   "cell_type": "code",
   "execution_count": null,
   "metadata": {
    "collapsed": true
   },
   "outputs": [],
   "source": []
  },
  {
   "cell_type": "code",
   "execution_count": 78,
   "metadata": {
    "collapsed": true
   },
   "outputs": [],
   "source": [
    "full_S = np.zeros((N,N))\n",
    "Yi = Y/scla.norm(Y)\n",
    "In = np.eye(N)\n",
    "Xc = np.hstack((np.ones_like(Y), X))\n",
    "XBfinal = Xc * fullmod.params\n",
    "for i,S in enumerate(hats):\n",
    "    partial_prediction = XBfinal[:,i]\n",
    "    other_partial_predictions = np.delete(XBfinal.copy(), i, axis=1)\n",
    "    sum_smooths_notj = other_partial_predictions.sum(axis=1).reshape(-1,1)\n",
    "    contribution = S - S.dot(sum_smooths_notj*Yi)\n",
    "    full_S += contribution"
   ]
  },
  {
   "cell_type": "code",
   "execution_count": 82,
   "metadata": {},
   "outputs": [
    {
     "data": {
      "text/plain": [
       "array([[-0.23547867, -0.18206638, -0.18977909, ..., -0.29895659,\n",
       "        -0.25056738, -0.17931646],\n",
       "       [-0.29946308, -0.23108195, -0.24124034, ..., -0.38131366,\n",
       "        -0.31902609, -0.227077  ],\n",
       "       [-0.17403517, -0.13446435, -0.14024052, ..., -0.22119849,\n",
       "        -0.18529201, -0.13235877],\n",
       "       ...,\n",
       "       [-0.57419052, -0.44844146, -0.46296288, ..., -0.70912319,\n",
       "        -0.60242697, -0.44093733],\n",
       "       [-0.48304757, -0.37579771, -0.38941698, ..., -0.60575178,\n",
       "        -0.50733731, -0.36858272],\n",
       "       [-0.33244098, -0.2563666 , -0.26766657, ..., -0.42358667,\n",
       "        -0.35337764, -0.25044472]])"
      ]
     },
     "execution_count": 82,
     "metadata": {},
     "output_type": "execute_result"
    }
   ],
   "source": [
    "S - S.dot(sum_smooths_notj * Yi.T)"
   ]
  },
  {
   "cell_type": "code",
   "execution_count": 79,
   "metadata": {},
   "outputs": [
    {
     "data": {
      "text/plain": [
       "(array([8.0000e+00, 2.2000e+01, 1.8500e+02, 3.3310e+03, 2.0379e+04,\n",
       "        1.2390e+03, 1.0000e+02, 1.5000e+01, 1.0000e+00, 1.0000e+00]),\n",
       " array([-2.65253985e+15, -2.04252447e+15, -1.43250908e+15, -8.22493702e+14,\n",
       "        -2.12478320e+14,  3.97537062e+14,  1.00755244e+15,  1.61756783e+15,\n",
       "         2.22758321e+15,  2.83759859e+15,  3.44761397e+15]),\n",
       " <a list of 10 Patch objects>)"
      ]
     },
     "execution_count": 79,
     "metadata": {},
     "output_type": "execute_result"
    },
    {
     "data": {
      "image/png": "[encoded data removed]",
      "text/plain": [
       "<matplotlib.figure.Figure at 0x7f612ee623c8>"
      ]
     },
     "metadata": {},
     "output_type": "display_data"
    }
   ],
   "source": [
    "plt.hist(np.linalg.inv(full_S).flatten())"
   ]
  },
  {
   "cell_type": "code",
   "execution_count": 39,
   "metadata": {},
   "outputs": [
    {
     "data": {
      "text/plain": [
       "array([[0.],\n",
       "       [0.],\n",
       "       [0.],\n",
       "       [0.],\n",
       "       [0.],\n",
       "       [0.],\n",
       "       [0.],\n",
       "       [0.],\n",
       "       [0.],\n",
       "       [0.],\n",
       "       [0.],\n",
       "       [0.],\n",
       "       [0.],\n",
       "       [0.],\n",
       "       [0.],\n",
       "       [0.],\n",
       "       [0.],\n",
       "       [0.],\n",
       "       [0.],\n",
       "       [0.],\n",
       "       [0.],\n",
       "       [0.],\n",
       "       [0.],\n",
       "       [0.],\n",
       "       [0.],\n",
       "       [0.],\n",
       "       [0.],\n",
       "       [0.],\n",
       "       [0.],\n",
       "       [0.],\n",
       "       [0.],\n",
       "       [0.],\n",
       "       [0.],\n",
       "       [0.],\n",
       "       [0.],\n",
       "       [0.],\n",
       "       [0.],\n",
       "       [0.],\n",
       "       [0.],\n",
       "       [0.],\n",
       "       [0.],\n",
       "       [0.],\n",
       "       [0.],\n",
       "       [0.],\n",
       "       [0.],\n",
       "       [0.],\n",
       "       [0.],\n",
       "       [0.],\n",
       "       [0.],\n",
       "       [0.],\n",
       "       [0.],\n",
       "       [0.],\n",
       "       [0.],\n",
       "       [0.],\n",
       "       [0.],\n",
       "       [0.],\n",
       "       [0.],\n",
       "       [0.],\n",
       "       [0.],\n",
       "       [0.],\n",
       "       [0.],\n",
       "       [0.],\n",
       "       [0.],\n",
       "       [0.],\n",
       "       [0.],\n",
       "       [0.],\n",
       "       [0.],\n",
       "       [0.],\n",
       "       [0.],\n",
       "       [0.],\n",
       "       [0.],\n",
       "       [0.],\n",
       "       [0.],\n",
       "       [0.],\n",
       "       [0.],\n",
       "       [0.],\n",
       "       [0.],\n",
       "       [0.],\n",
       "       [0.],\n",
       "       [0.],\n",
       "       [0.],\n",
       "       [0.],\n",
       "       [0.],\n",
       "       [0.],\n",
       "       [0.],\n",
       "       [0.],\n",
       "       [0.],\n",
       "       [0.],\n",
       "       [0.],\n",
       "       [0.],\n",
       "       [0.],\n",
       "       [0.],\n",
       "       [0.],\n",
       "       [0.],\n",
       "       [0.],\n",
       "       [0.],\n",
       "       [0.],\n",
       "       [0.],\n",
       "       [0.],\n",
       "       [0.],\n",
       "       [0.],\n",
       "       [0.],\n",
       "       [0.],\n",
       "       [0.],\n",
       "       [0.],\n",
       "       [0.],\n",
       "       [0.],\n",
       "       [0.],\n",
       "       [0.],\n",
       "       [0.],\n",
       "       [0.],\n",
       "       [0.],\n",
       "       [0.],\n",
       "       [0.],\n",
       "       [0.],\n",
       "       [0.],\n",
       "       [0.],\n",
       "       [0.],\n",
       "       [0.],\n",
       "       [0.],\n",
       "       [0.],\n",
       "       [0.],\n",
       "       [0.],\n",
       "       [0.],\n",
       "       [0.],\n",
       "       [0.],\n",
       "       [0.],\n",
       "       [0.],\n",
       "       [0.],\n",
       "       [0.],\n",
       "       [0.],\n",
       "       [0.],\n",
       "       [0.],\n",
       "       [0.],\n",
       "       [0.],\n",
       "       [0.],\n",
       "       [0.],\n",
       "       [0.],\n",
       "       [0.],\n",
       "       [0.],\n",
       "       [0.],\n",
       "       [0.],\n",
       "       [0.],\n",
       "       [0.],\n",
       "       [0.],\n",
       "       [0.],\n",
       "       [0.],\n",
       "       [0.],\n",
       "       [0.],\n",
       "       [0.],\n",
       "       [0.],\n",
       "       [0.],\n",
       "       [0.],\n",
       "       [0.],\n",
       "       [0.],\n",
       "       [0.],\n",
       "       [0.],\n",
       "       [0.],\n",
       "       [0.]])"
      ]
     },
     "execution_count": 39,
     "metadata": {},
     "output_type": "execute_result"
    }
   ],
   "source": [
    "(XBfinal).sum(axis=1).reshape(-1,1) - fullmod.predy"
   ]
  },
  {
   "cell_type": "code",
   "execution_count": null,
   "metadata": {
    "collapsed": true
   },
   "outputs": [],
   "source": []
  }
 ],
 "metadata": {
  "kernelspec": {
   "display_name": "Python 3 (Analysis)",
   "language": "python",
   "name": "ana"
  },
  "language_info": {
   "codemirror_mode": {
    "name": "ipython",
    "version": 3
   },
   "file_extension": ".py",
   "mimetype": "text/x-python",
   "name": "python",
   "nbconvert_exporter": "python",
   "pygments_lexer": "ipython3",
   "version": "3.5.4"
  }
 },
 "nbformat": 4,
 "nbformat_minor": 2
}
